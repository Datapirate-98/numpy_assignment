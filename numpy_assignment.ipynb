{
 "cells": [
  {
   "cell_type": "markdown",
   "metadata": {},
   "source": [
    "# Write a function so that the columns of the output matrix are powers of the input vector.\n",
    "# The order of the powers is determined by the increasing boolean argument. Specifically, when \n",
    "# increasing is False, the i-th output column is the input vector raised element-wise to the power of N - i - 1."
   ]
  },
  {
   "cell_type": "code",
   "execution_count": 1,
   "metadata": {},
   "outputs": [],
   "source": [
    "import numpy as np"
   ]
  },
  {
   "cell_type": "code",
   "execution_count": 7,
   "metadata": {},
   "outputs": [],
   "source": [
    "def func(vec, n, inc=True):\n",
    "    if inc:\n",
    "        m = np.matrix([i**j for i in vec for j in range(n)]).reshape(vec.size, n)\n",
    "    else:\n",
    "        m = np.matrix([i**(n-j-1) for i in vec for j in range(n)]).reshape(vec.size, n)\n",
    "    return m"
   ]
  },
  {
   "cell_type": "code",
   "execution_count": 8,
   "metadata": {},
   "outputs": [
    {
     "name": "stdout",
     "output_type": "stream",
     "text": [
      "[[   1    1    1    1    1]\n",
      " [  81   27    9    3    1]\n",
      " [ 625  125   25    5    1]\n",
      " [2401  343   49    7    1]\n",
      " [6561  729   81    9    1]]\n"
     ]
    }
   ],
   "source": [
    "vec = np.array([1,3,5,7,9])\n",
    "n = 5\n",
    "print(func(vec,n,False))"
   ]
  },
  {
   "cell_type": "markdown",
   "metadata": {},
   "source": [
    "# Write a function to find moving average in an array over a window:\n",
    "# Test it over [3, 5, 7, 2, 8, 10, 11, 65, 72, 81, 99, 100, 150] and window of 3."
   ]
  },
  {
   "cell_type": "code",
   "execution_count": 31,
   "metadata": {},
   "outputs": [],
   "source": [
    "def func2(arr, k):\n",
    "    flag = 1\n",
    "    res = np.convolve(arr, np.ones(k), mode = \"valid\")/k\n",
    "    for i in res:\n",
    "        print(\"y{0} = {1:.3f}\".format(flag, i))\n",
    "        flag = flag+1"
   ]
  },
  {
   "cell_type": "code",
   "execution_count": 32,
   "metadata": {},
   "outputs": [
    {
     "name": "stdout",
     "output_type": "stream",
     "text": [
      "y1 = 5.000\n",
      "y2 = 4.667\n",
      "y3 = 5.667\n",
      "y4 = 6.667\n",
      "y5 = 9.667\n",
      "y6 = 28.667\n",
      "y7 = 49.333\n",
      "y8 = 72.667\n",
      "y9 = 84.000\n",
      "y10 = 93.333\n",
      "y11 = 116.333\n"
     ]
    }
   ],
   "source": [
    "arr = np.array([3, 5, 7, 2, 8, 10, 11, 65, 72, 81, 99, 100, 150])\n",
    "k = 3\n",
    "func2(arr, k)"
   ]
  }
 ],
 "metadata": {
  "kernelspec": {
   "display_name": "Python 3",
   "language": "python",
   "name": "python3"
  },
  "language_info": {
   "codemirror_mode": {
    "name": "ipython",
    "version": 3
   },
   "file_extension": ".py",
   "mimetype": "text/x-python",
   "name": "python",
   "nbconvert_exporter": "python",
   "pygments_lexer": "ipython3",
   "version": "3.7.3"
  }
 },
 "nbformat": 4,
 "nbformat_minor": 2
}
